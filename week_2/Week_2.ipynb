{
 "cells": [
  {
   "cell_type": "code",
   "execution_count": 1,
   "metadata": {},
   "outputs": [
    {
     "name": "stdout",
     "output_type": "stream",
     "text": [
      "拿出一張紙。\n"
     ]
    }
   ],
   "source": [
    "print(\"拿出一張紙。\")"
   ]
  },
  {
   "cell_type": "code",
   "execution_count": 2,
   "metadata": {},
   "outputs": [
    {
     "name": "stdout",
     "output_type": "stream",
     "text": [
      "從第一個字開始，把這個字寫在紙上。\n"
     ]
    }
   ],
   "source": [
    "print(\"從第一個字開始，把這個字寫在紙上。\")"
   ]
  },
  {
   "cell_type": "code",
   "execution_count": 3,
   "metadata": {},
   "outputs": [
    {
     "name": "stdout",
     "output_type": "stream",
     "text": [
      "看下一個字，如果這個字已經在這張紙上，則再繼續下一個字；如果這個字不在那張紙上，則把這個字寫上去。\n"
     ]
    }
   ],
   "source": [
    "print(\"看下一個字，如果這個字已經在這張紙上，\" +\n",
    "        \"則再繼續下一個字；如果這個字不在那張紙上，\" +\n",
    "        \"則把這個字寫上去。\")"
   ]
  },
  {
   "cell_type": "code",
   "execution_count": 4,
   "metadata": {},
   "outputs": [
    {
     "name": "stdout",
     "output_type": "stream",
     "text": [
      "重複上述步驟，直到看完所有的字。\n"
     ]
    }
   ],
   "source": [
    "print(\"重複上述步驟，直到看完所有的字。\")"
   ]
  },
  {
   "cell_type": "code",
   "execution_count": 5,
   "metadata": {},
   "outputs": [
    {
     "name": "stdout",
     "output_type": "stream",
     "text": [
      "計算紙上有幾個字。\n"
     ]
    }
   ],
   "source": [
    "print(\"計算紙上有幾個字。\")"
   ]
  },
  {
   "cell_type": "code",
   "execution_count": 6,
   "metadata": {},
   "outputs": [
    {
     "name": "stdout",
     "output_type": "stream",
     "text": [
      "修課原因：\n"
     ]
    }
   ],
   "source": [
    "print(\"修課原因：\")"
   ]
  },
  {
   "cell_type": "code",
   "execution_count": 7,
   "metadata": {},
   "outputs": [
    {
     "name": "stdout",
     "output_type": "stream",
     "text": [
      "希望能培養Python程式的能力，有機會可以自己爬蟲做數據分析。\n"
     ]
    }
   ],
   "source": [
    "print(\"希望能培養Python的程式能力，有機會可以自己爬蟲並做數據分析。\")"
   ]
  },
  {
   "cell_type": "code",
   "execution_count": 8,
   "metadata": {},
   "outputs": [
    {
     "name": "stdout",
     "output_type": "stream",
     "text": [
      "最大的擔心：\n"
     ]
    }
   ],
   "source": [
    "print(\"最大的擔心：\")"
   ]
  },
  {
   "cell_type": "code",
   "execution_count": null,
   "metadata": {},
   "outputs": [],
   "source": [
    "print(\"對語法不熟悉，遇到問題找不到關鍵字解決。\")"
   ]
  }
 ],
 "metadata": {
  "kernelspec": {
   "display_name": "Python 3",
   "language": "python",
   "name": "python3"
  },
  "language_info": {
   "codemirror_mode": {
    "name": "ipython",
    "version": 3
   },
   "file_extension": ".py",
   "mimetype": "text/x-python",
   "name": "python",
   "nbconvert_exporter": "python",
   "pygments_lexer": "ipython3",
   "version": "3.6.5"
  }
 },
 "nbformat": 4,
 "nbformat_minor": 2
}
