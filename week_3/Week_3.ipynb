{
 "cells": [
  {
   "cell_type": "markdown",
   "metadata": {},
   "source": [
    "# Week_3 WH"
   ]
  },
  {
   "cell_type": "markdown",
   "metadata": {},
   "source": [
    "## Author Search"
   ]
  },
  {
   "cell_type": "code",
   "execution_count": 1,
   "metadata": {},
   "outputs": [],
   "source": [
    "# Data of books and authors\n",
    "book_1 = \"禁忌的魔術\"\n",
    "book_2 = \"你的孩子不是你的孩子\"\n",
    "book_3 = \"起源\"\n",
    "book_4 = \"第一次學 Python 就上手！\"\n",
    "author_1 = \"東野圭吾\"\n",
    "author_2 = \"吳曉樂\"\n",
    "author_3 = \"丹‧布朗\"\n",
    "author_4 = \"陳惠貞\""
   ]
  },
  {
   "cell_type": "code",
   "execution_count": 2,
   "metadata": {},
   "outputs": [
    {
     "name": "stdout",
     "output_type": "stream",
     "text": [
      "== 請選擇書籍 1~4 ==\n",
      "1. 禁忌的魔術\n",
      "2. 你的孩子不是你的孩子\n",
      "3. 起源\n",
      "4. 第一次學 Python 就上手！\n",
      "書籍編號(1~4): 4\n"
     ]
    }
   ],
   "source": [
    "## --- Input Section ---\n",
    "print(\"== 請選擇書籍 1~4 ==\")\n",
    "print(\"1. \" + book_1)\n",
    "print(\"2. \" + book_2)\n",
    "print(\"3. \" + book_3)\n",
    "print(\"4. \" + book_4)\n",
    "book_index = input(\"書籍編號(1~4): \")"
   ]
  },
  {
   "cell_type": "code",
   "execution_count": 3,
   "metadata": {},
   "outputs": [],
   "source": [
    "## --- Program Section ---\n",
    "book_label = eval(\"book_\" + book_index)\n",
    "author_label = eval(\"author_\" + book_index)"
   ]
  },
  {
   "cell_type": "code",
   "execution_count": 4,
   "metadata": {},
   "outputs": [
    {
     "name": "stdout",
     "output_type": "stream",
     "text": [
      "《第一次學 Python 就上手！》的作者是陳惠貞\n"
     ]
    }
   ],
   "source": [
    "## --- Output Section ---\n",
    "print(\"《\" + book_label + \"》的作者是\" + author_label)"
   ]
  }
 ],
 "metadata": {
  "kernelspec": {
   "display_name": "Python 3",
   "language": "python",
   "name": "python3"
  },
  "language_info": {
   "codemirror_mode": {
    "name": "ipython",
    "version": 3
   },
   "file_extension": ".py",
   "mimetype": "text/x-python",
   "name": "python",
   "nbconvert_exporter": "python",
   "pygments_lexer": "ipython3",
   "version": "3.6.5"
  }
 },
 "nbformat": 4,
 "nbformat_minor": 2
}
