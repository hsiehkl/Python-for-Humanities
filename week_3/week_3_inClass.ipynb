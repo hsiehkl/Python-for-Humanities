{
 "cells": [
  {
   "cell_type": "markdown",
   "metadata": {},
   "source": [
    "# Week 3 in class practice"
   ]
  },
  {
   "cell_type": "markdown",
   "metadata": {},
   "source": [
    "## 1. Checkout"
   ]
  },
  {
   "cell_type": "code",
   "execution_count": 39,
   "metadata": {},
   "outputs": [
    {
     "name": "stdout",
     "output_type": "stream",
     "text": [
      "請輸入金額 - 物品1: \n",
      "請輸入金額 - 物品2: \n",
      "請輸入金額 - 物品3: 100\n"
     ]
    }
   ],
   "source": [
    "## --- Input Section ---\n",
    "## task: 使用者輸入最多三項之金額\n",
    "item1 = input(\"請輸入金額 - 物品1: \")\n",
    "item2 = input(\"請輸入金額 - 物品2: \")\n",
    "item3 = input(\"請輸入金額 - 物品3: \")"
   ]
  },
  {
   "cell_type": "code",
   "execution_count": 40,
   "metadata": {},
   "outputs": [],
   "source": [
    "## --- Program Section ---\n",
    "## task: 計算總金額\n",
    "total = int(\"0\" + item1) + int(\"0\" + item2) + int(\"0\" + item3)"
   ]
  },
  {
   "cell_type": "code",
   "execution_count": 41,
   "metadata": {},
   "outputs": [
    {
     "name": "stdout",
     "output_type": "stream",
     "text": [
      "總額：100元\n"
     ]
    }
   ],
   "source": [
    "## --- Output Section ---\n",
    "## task: 顯示金額\n",
    "print(\"總額：\" + str(total) + \"元\")"
   ]
  },
  {
   "cell_type": "markdown",
   "metadata": {},
   "source": [
    "## 2. Dynasty year span"
   ]
  },
  {
   "cell_type": "code",
   "execution_count": 42,
   "metadata": {},
   "outputs": [],
   "source": [
    "# retrieved from \n",
    "# https://zh.wikipedia.org/wiki/%E4%B8%AD%E5%9B%BD%E5%8E%86%E5%8F%B2%E5%B9%B4%E8%A1%A8\n",
    "唐 = \"690-705\"\n",
    "宋 = \"960-1279\"\n",
    "元 = \"1271-1368\"\n",
    "明 = \"1368-1644\"\n",
    "清 = \"1636-1912\""
   ]
  },
  {
   "cell_type": "code",
   "execution_count": 44,
   "metadata": {},
   "outputs": [
    {
     "name": "stdout",
     "output_type": "stream",
     "text": [
      "輸入朝代名: 元\n",
      "朝代起迄（西元年）：\n",
      "1271-1368\n"
     ]
    }
   ],
   "source": [
    "# program starts here\n",
    "dynasty = input(\"輸入朝代名: \")\n",
    "year_span = eval(dynasty)\n",
    "print(\"朝代起迄（西元年）：\")\n",
    "print(year_span)"
   ]
  },
  {
   "cell_type": "markdown",
   "metadata": {},
   "source": [
    "## 3. Currency exchange"
   ]
  },
  {
   "cell_type": "code",
   "execution_count": 34,
   "metadata": {},
   "outputs": [
    {
     "name": "stdout",
     "output_type": "stream",
     "text": [
      "支援幣別：USD/HKD/GBP/JPY/EUR/KRW/MYR/CNY\n",
      "以台幣兌換之幣別: JPY\n",
      "兌換金額（目標幣別）: 10000\n"
     ]
    }
   ],
   "source": [
    "## --- Input Section ---\n",
    "print(\"支援幣別：USD/HKD/GBP/JPY/EUR/KRW/MYR/CNY\")\n",
    "currency_label = input(\"以台幣兌換之幣別: \")\n",
    "value_str = input(\"兌換金額（目標幣別）: \")"
   ]
  },
  {
   "cell_type": "code",
   "execution_count": 35,
   "metadata": {},
   "outputs": [],
   "source": [
    "## --- Program Section ---\n",
    "# currency retrieved on 2018-09-06\n",
    "# https://rate.bot.com.tw/xrt?Lang=zh-TW\n",
    "# 現金買入\n",
    "USD = 30.37     # 美金\n",
    "HKD = 3.756     # 港幣\n",
    "GBP = 38.56     # 英磅\n",
    "JPY = 0.2673    # 日圓\n",
    "EUR = 34.97     # 歐元\n",
    "KRW = 0.02569   # 韓元\n",
    "MYR = 6.331     # 馬來幣\n",
    "CNY = 4.4       # 人民幣"
   ]
  },
  {
   "cell_type": "code",
   "execution_count": 36,
   "metadata": {},
   "outputs": [
    {
     "name": "stdout",
     "output_type": "stream",
     "text": [
      "需台幣2673.0元\n"
     ]
    }
   ],
   "source": [
    "## --- Out Section ---\n",
    "value = int(value_str)\n",
    "rate = eval(currency_label)\n",
    "exchanged = value * rate\n",
    "print(\"需台幣\" + str(exchanged) + \"元\")"
   ]
  }
 ],
 "metadata": {
  "kernelspec": {
   "display_name": "Python 3",
   "language": "python",
   "name": "python3"
  },
  "language_info": {
   "codemirror_mode": {
    "name": "ipython",
    "version": 3
   },
   "file_extension": ".py",
   "mimetype": "text/x-python",
   "name": "python",
   "nbconvert_exporter": "python",
   "pygments_lexer": "ipython3",
   "version": "3.6.5"
  }
 },
 "nbformat": 4,
 "nbformat_minor": 2
}
