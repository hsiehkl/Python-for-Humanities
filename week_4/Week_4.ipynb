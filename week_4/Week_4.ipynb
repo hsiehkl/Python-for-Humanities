{
 "cells": [
  {
   "cell_type": "markdown",
   "metadata": {},
   "source": [
    "# Week4_HW"
   ]
  },
  {
   "cell_type": "markdown",
   "metadata": {},
   "source": [
    "## Piaget's theory of cognitive development\n",
    "* find cognitive development stage by a given age"
   ]
  },
  {
   "cell_type": "code",
   "execution_count": 1,
   "metadata": {},
   "outputs": [],
   "source": [
    "# Data Section\n",
    "## =============\n",
    "\n",
    "piaget_theory = {\n",
    "    \"Sensorimotor\": {\n",
    "        \"label\": \"感覺運動期\",\n",
    "        \"description\": \"嬰兒透過感覺與動作經驗建構對於世界的知識，並藉著本能性反射與世界互動。此階段將發展出物體恆存概念。\"\n",
    "    },\n",
    "    \"Preoperational\": {\n",
    "        \"label\": \"前運思期\",\n",
    "        \"description\": \"幼兒已經能使用語言、符號等工具表徵外在事物。此階段個體的思考被認為具有以自我為中心、不可逆轉、專注事物單面向等特性。\"\n",
    "    },\n",
    "    \"Concrete Operational\": {\n",
    "        \"label\": \"具體運思期\",\n",
    "        \"description\": \"幼兒開始理解邏輯規則，並能按照具體經驗解決問題。在認知發展理論中，此階段的幼兒已掌握可逆與保留概念，同時也能理解如何從別人的角度看世界。\"\n",
    "    },\n",
    "    \"Formal Operational\": {\n",
    "        \"label\": \"形式運思期\",\n",
    "        \"description\": \"個體開始具備抽象概念思考和演繹推理的能力，並展現出後設認知及系統性解決問題的能力。\"\n",
    "    }\n",
    "}"
   ]
  },
  {
   "cell_type": "code",
   "execution_count": 3,
   "metadata": {},
   "outputs": [
    {
     "name": "stdout",
     "output_type": "stream",
     "text": [
      "請輸入年齡(0-16):3\n"
     ]
    }
   ],
   "source": [
    "###### Input Section\n",
    "## ===============\n",
    "\n",
    "age_str = input(\"請輸入年齡(0-16):\")\n",
    "age = int(age_str)"
   ]
  },
  {
   "cell_type": "code",
   "execution_count": 4,
   "metadata": {},
   "outputs": [],
   "source": [
    "## Program Section\n",
    "## ================\n",
    "if 0 <= age < 2:\n",
    "    stage = \"Sensorimotor\"\n",
    "elif 2 <= age < 7:\n",
    "    stage = \"Preoperational\"\n",
    "elif 7 <= age < 11:\n",
    "    stage = \"Concrete Operational\"\n",
    "elif 11 <= age <= 16:\n",
    "    stage = \"Formal Operational\"\n",
    "else:\n",
    "    print(\"invalid age\")\n",
    "    exit()\n",
    "stage_info = piaget_theory[stage]\n",
    "stage_tw = stage_info[\"label\"]\n",
    "description = stage_info[\"description\"]"
   ]
  },
  {
   "cell_type": "code",
   "execution_count": 5,
   "metadata": {},
   "outputs": [
    {
     "name": "stdout",
     "output_type": "stream",
     "text": [
      "== 前運思期 ==\n",
      "(Preoperational)\n",
      "幼兒已經能使用語言、符號等工具表徵外在事物。此階段個體的思考被認為具有以自我為中心、不可逆轉、專注事物單面向等特性。\n"
     ]
    }
   ],
   "source": [
    "## Output Section\n",
    "## ==============\n",
    "print(\"== \" + stage_tw + \" ==\")\n",
    "print(\"(\" + stage + \")\")\n",
    "print(description)"
   ]
  }
 ],
 "metadata": {
  "kernelspec": {
   "display_name": "Python 3",
   "language": "python",
   "name": "python3"
  },
  "language_info": {
   "codemirror_mode": {
    "name": "ipython",
    "version": 3
   },
   "file_extension": ".py",
   "mimetype": "text/x-python",
   "name": "python",
   "nbconvert_exporter": "python",
   "pygments_lexer": "ipython3",
   "version": "3.6.5"
  }
 },
 "nbformat": 4,
 "nbformat_minor": 2
}
