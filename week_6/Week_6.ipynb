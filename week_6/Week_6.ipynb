{
 "cells": [
  {
   "cell_type": "markdown",
   "metadata": {},
   "source": [
    "# Week6_HW"
   ]
  },
  {
   "cell_type": "markdown",
   "metadata": {},
   "source": [
    "## Fill in the space\n",
    "* randomly select a lyrics sentence and leave a blank for filling in"
   ]
  },
  {
   "cell_type": "code",
   "execution_count": 1,
   "metadata": {},
   "outputs": [],
   "source": [
    "import random"
   ]
  },
  {
   "cell_type": "code",
   "execution_count": 2,
   "metadata": {},
   "outputs": [],
   "source": [
    "## Data Section\n",
    "lyrics = \"\"\"路,去學校的路很久沒走\n",
    "換,最近也換了新的工作\n",
    "缺,所有的追求是不是缺少了什麼\n",
    "平,想像著生活風平浪靜\n",
    "想,打開了窗戶突然想起\n",
    "水,你在的世界會不會很靠近水星\"\"\""
   ]
  },
  {
   "cell_type": "code",
   "execution_count": 3,
   "metadata": {},
   "outputs": [],
   "source": [
    "## Cloze sentence generation\n",
    "sentence_list = lyrics.split(\"\\n\")\n",
    "line = random.choice(sentence_list)\n",
    "\n",
    "item_pair = line.split(\",\")\n",
    "sentence_x = item_pair[1]\n",
    "cloze_char = item_pair[0]\n",
    "cloze_sentence = sentence_x.replace(cloze_char, \"__\")"
   ]
  },
  {
   "cell_type": "code",
   "execution_count": 4,
   "metadata": {},
   "outputs": [
    {
     "name": "stdout",
     "output_type": "stream",
     "text": [
      "--- 歌詞填空產生器 ---\n",
      "打開了窗戶突然__起\n"
     ]
    }
   ],
   "source": [
    "## Display the cloze\n",
    "print(\"--- 歌詞填空產生器 ---\")\n",
    "print(cloze_sentence)"
   ]
  },
  {
   "cell_type": "code",
   "execution_count": 5,
   "metadata": {},
   "outputs": [
    {
     "name": "stdout",
     "output_type": "stream",
     "text": [
      "請填入空格中的字是：記\n"
     ]
    }
   ],
   "source": [
    "## User Input\n",
    "ans_char = input(\"請填入空格中的字是：\")"
   ]
  },
  {
   "cell_type": "code",
   "execution_count": 6,
   "metadata": {},
   "outputs": [
    {
     "name": "stdout",
     "output_type": "stream",
     "text": [
      "答案應該是「想」\n"
     ]
    }
   ],
   "source": [
    "## Check the answer\n",
    "if ans_char == cloze_char:\n",
    "    print(\"答對了！\")\n",
    "else:\n",
    "    print(\"答案應該是「{}」\".format(cloze_char))"
   ]
  }
 ],
 "metadata": {
  "kernelspec": {
   "display_name": "Python 3",
   "language": "python",
   "name": "python3"
  },
  "language_info": {
   "codemirror_mode": {
    "name": "ipython",
    "version": 3
   },
   "file_extension": ".py",
   "mimetype": "text/x-python",
   "name": "python",
   "nbconvert_exporter": "python",
   "pygments_lexer": "ipython3",
   "version": "3.6.5"
  }
 },
 "nbformat": 4,
 "nbformat_minor": 2
}
