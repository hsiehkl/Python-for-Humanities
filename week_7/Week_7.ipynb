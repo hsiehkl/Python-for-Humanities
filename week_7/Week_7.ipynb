{
 "cells": [
  {
   "cell_type": "markdown",
   "metadata": {},
   "source": [
    "# Week7_HW\n",
    "* Flow control\n",
    "* Iteration"
   ]
  },
  {
   "cell_type": "code",
   "execution_count": 2,
   "metadata": {},
   "outputs": [],
   "source": [
    "## Data Section\n",
    "## poem變項內容擷取自鄭愁予《錯誤》\n",
    "poem = \"\"\"\n",
    "東風不來，三月的柳絮不飛\n",
    "你的心如小小寂寞的城\n",
    "恰若青石的街道向晚\n",
    "跫音不響，三月的春帷不揭\n",
    "你的心是小小的窗扉緊掩\n",
    "\"\"\""
   ]
  },
  {
   "cell_type": "code",
   "execution_count": 3,
   "metadata": {},
   "outputs": [],
   "source": [
    "layout_dict = {\n",
    "    \"心\": '❤️', '城': '🏰', '晚': '🌙',\n",
    "    \"小\": 'drift', \"向\": 'drift',\n",
    "    \"的\": 'drift', \"月\": 'drift'\n",
    "}"
   ]
  },
  {
   "cell_type": "code",
   "execution_count": 4,
   "metadata": {},
   "outputs": [
    {
     "name": "stdout",
     "output_type": "stream",
     "text": [
      "\n",
      "東風不來\n",
      "三 月 的柳絮不飛\n",
      "你 的❤️ 如 小 小寂寞 的🏰 \n",
      "恰若青石 的街道 向🌙 \n",
      "跫音不響\n",
      "三 月 的春帷不揭\n",
      "你 的❤️ 是 小 小 的窗扉緊掩\n",
      "\n"
     ]
    }
   ],
   "source": [
    "formatted_poem = \"\"\n",
    "\n",
    "for char in poem:\n",
    "\n",
    "    if char in (\"\\n\", \"，\"):\n",
    "        formatted_poem += \"\\n\"\n",
    "    else:\n",
    "        if char in layout_dict:\n",
    "            formatted_poem += (layout_dict[char] + \" \") if layout_dict[char] != \"drift\" else (\" \" + char)\n",
    "        else:\n",
    "            formatted_poem += char\n",
    "\n",
    "print(formatted_poem)"
   ]
  }
 ],
 "metadata": {
  "kernelspec": {
   "display_name": "Python 3",
   "language": "python",
   "name": "python3"
  },
  "language_info": {
   "codemirror_mode": {
    "name": "ipython",
    "version": 3
   },
   "file_extension": ".py",
   "mimetype": "text/x-python",
   "name": "python",
   "nbconvert_exporter": "python",
   "pygments_lexer": "ipython3",
   "version": "3.6.5"
  }
 },
 "nbformat": 4,
 "nbformat_minor": 2
}
