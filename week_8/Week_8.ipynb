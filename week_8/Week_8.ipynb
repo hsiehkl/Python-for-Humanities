{
 "cells": [
  {
   "cell_type": "markdown",
   "metadata": {},
   "source": [
    "# Week8_HW\n",
    "* Import module\n",
    "* Create self-defined function"
   ]
  },
  {
   "cell_type": "code",
   "execution_count": 1,
   "metadata": {},
   "outputs": [],
   "source": [
    "# Import\n",
    "from datetime import datetime"
   ]
  },
  {
   "cell_type": "code",
   "execution_count": 2,
   "metadata": {},
   "outputs": [],
   "source": [
    "# Data Section\n",
    "\n",
    "events = [\n",
    "    (\"2018/10/25\", \"寫日記\", 30),\n",
    "    (\"2018/10/23\", \"7-11\", 1),\n",
    "    (\"2018/9/27\", \"寫日記\", 30),\n",
    "    (\"2018/9/28\", \"寫日記\", 20),\n",
    "    (\"2018/9/29\", \"寫日記\", 40),\n",
    "    (\"2018/9/29\", \"總圖\", 3),\n",
    "    (\"2018/9/30\", \"寫日記\", 25),\n",
    "    (\"2018/10/21\", \"7-11\", 2),\n",
    "    (\"2018/10/22\", \"總圖\", 3),\n",
    "    (\"2018/10/23\", \"總圖\", 2)\n",
    "]\n",
    "\n",
    "event_info = {\n",
    "    \"寫日記\": {\n",
    "        \"detail\": \"寫日記花的時間\",\n",
    "        \"unit\": \"分鐘\"},\n",
    "    \"7-11\": {\n",
    "        \"detail\": \"在7-11蒐集到的點數\",\n",
    "        \"unit\": \"點\"},\n",
    "    \"總圖\": {\n",
    "        \"detail\": \"在總圖唸書的時間\",\n",
    "        \"unit\": \"小時\"}\n",
    "}"
   ]
  },
  {
   "cell_type": "code",
   "execution_count": 3,
   "metadata": {},
   "outputs": [],
   "source": [
    "##   Function Definition\n",
    "\n",
    "def group_last_time(ev_data, ev_info):\n",
    "    last_time_dic = {}\n",
    "    for ev_x in ev_data:\n",
    "        ev_category = ev_x[1]\n",
    "        date_recorded = ev_x[0]\n",
    "        days_ago = get_day_diff(date_recorded)\n",
    "        min_days_ago = last_time_dic.get(ev_category, days_ago)\n",
    "        if days_ago <= min_days_ago:\n",
    "            last_time_dic[ev_category] = days_ago\n",
    "\n",
    "    output_text = format_group_message(\n",
    "        \"[{category}]，最近一次是{value}天前\\n\", last_time_dic, ev_info)\n",
    "    return output_text\n",
    "\n",
    "def group_sum(ev_data, ev_info):\n",
    "    sum_dict = {}\n",
    "    for ev_x in ev_data:\n",
    "        ev_category = ev_x[1]\n",
    "        sum_val = sum_dict.get(ev_category, 0)\n",
    "        sum_val += int(ev_x[2])\n",
    "        sum_dict[ev_category] = sum_val\n",
    "\n",
    "    output_text = format_group_message(\n",
    "        \"{detail}，總共{value}{unit}\\n\", sum_dict, ev_info)\n",
    "    return output_text\n",
    "\n",
    "def group_max(ev_data, ev_info):\n",
    "    max_dict = {}\n",
    "    for ev_x in ev_data:\n",
    "        ev_category = ev_x[1]\n",
    "        max_val = max_dict.get(ev_category, 0)\n",
    "        max_val = max(max_val, ev_x[2])\n",
    "        max_dict[ev_category] = max_val\n",
    "\n",
    "    output_text = format_group_message(\n",
    "        \"{detail}，最高紀錄是{value}{unit}\\n\", max_dict, ev_info)\n",
    "    return output_text\n",
    "\n",
    "def format_group_message(template, group_dict, ev_info):\n",
    "    output_text = \"\"\n",
    "    for group_cat, group_val in group_dict.items():\n",
    "        group_detail = ev_info[group_cat][\"detail\"]\n",
    "        group_unit = ev_info[group_cat][\"unit\"]\n",
    "        output_text += template.format(\n",
    "            category=group_cat,\n",
    "            detail=group_detail,\n",
    "            value=group_val,\n",
    "            unit=group_unit\n",
    "        )\n",
    "    return output_text\n",
    "\n",
    "def get_day_diff(date_str):\n",
    "    date_format = \"%Y/%m/%d\"\n",
    "    today = datetime.today()\n",
    "    date = datetime.strptime(date_str, date_format)\n",
    "    diff = today - date\n",
    "    return diff.days"
   ]
  },
  {
   "cell_type": "code",
   "execution_count": 4,
   "metadata": {},
   "outputs": [],
   "source": [
    "##  Main Entry Function\n",
    "\n",
    "def main():\n",
    "\n",
    "    while True:\n",
    "        ## Ask for user input (I)\n",
    "        print(\"-- 我的生活日誌 --\")\n",
    "        print(\"1. 各活動加總\")\n",
    "        print(\"2. 各活動最高紀錄\")\n",
    "        print(\"3. 各活動的最近一次\")\n",
    "        option_x = input(\"選擇分析選項（或Enter結束）：\")\n",
    "\n",
    "        ## Carryout selected action (P)\n",
    "        if option_x == \"1\":\n",
    "            outStr = group_sum(events, event_info)\n",
    "        elif option_x == \"2\":\n",
    "            outStr = group_max(events, event_info)\n",
    "        elif option_x == \"3\":\n",
    "            outStr = group_last_time(events, event_info)\n",
    "        elif option_x == \"\":\n",
    "            print(\"-----\")\n",
    "            print(\"Bye\")\n",
    "            break\n",
    "        else:\n",
    "            print(\"unrecognized option\")\n",
    "            continue\n",
    "\n",
    "        ## Output resulting string (O)\n",
    "        print(\"-----\")\n",
    "        print(outStr)"
   ]
  },
  {
   "cell_type": "code",
   "execution_count": 5,
   "metadata": {},
   "outputs": [
    {
     "name": "stdout",
     "output_type": "stream",
     "text": [
      "-- 我的生活日誌 --\n",
      "1. 各活動加總\n",
      "2. 各活動最高紀錄\n",
      "3. 各活動的最近一次\n",
      "選擇分析選項（或Enter結束）：3\n",
      "-----\n",
      "[寫日記]，最近一次是33天前\n",
      "[7-11]，最近一次是35天前\n",
      "[總圖]，最近一次是35天前\n",
      "\n",
      "-- 我的生活日誌 --\n",
      "1. 各活動加總\n",
      "2. 各活動最高紀錄\n",
      "3. 各活動的最近一次\n",
      "選擇分析選項（或Enter結束）：\n",
      "-----\n",
      "Bye\n"
     ]
    }
   ],
   "source": [
    "## Calling main() function\n",
    "main()"
   ]
  }
 ],
 "metadata": {
  "kernelspec": {
   "display_name": "Python 3",
   "language": "python",
   "name": "python3"
  },
  "language_info": {
   "codemirror_mode": {
    "name": "ipython",
    "version": 3
   },
   "file_extension": ".py",
   "mimetype": "text/x-python",
   "name": "python",
   "nbconvert_exporter": "python",
   "pygments_lexer": "ipython3",
   "version": "3.6.5"
  }
 },
 "nbformat": 4,
 "nbformat_minor": 2
}
